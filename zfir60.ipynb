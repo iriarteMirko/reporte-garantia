{
 "cells": [
  {
   "cell_type": "code",
   "execution_count": 1,
   "metadata": {},
   "outputs": [],
   "source": [
    "import pandas as pd\n",
    "import glob\n",
    "import os\n",
    "import warnings\n",
    "from datetime import datetime\n",
    "\n",
    "warnings.filterwarnings(\"ignore\")"
   ]
  },
  {
   "cell_type": "code",
   "execution_count": 2,
   "metadata": {},
   "outputs": [],
   "source": [
    "file_pattern = \"zfir60/ZFIR60_*.xlsx\"\n",
    "file_list = glob.glob(file_pattern)\n",
    "# Lista vacía para almacenar los df individuales\n",
    "dataframes = []"
   ]
  },
  {
   "cell_type": "code",
   "execution_count": 3,
   "metadata": {},
   "outputs": [],
   "source": [
    "desde = \"20240520\"                          # Fecha de inicio\n",
    "hasta = datetime.now().strftime(\"%Y%m%d\")   # Fecha actual\n",
    "\n",
    "fecha_hasta = datetime.strptime(hasta, '%Y%m%d')\n",
    "fecha_desde = datetime.strptime(desde, '%Y%m%d')"
   ]
  },
  {
   "cell_type": "code",
   "execution_count": 4,
   "metadata": {},
   "outputs": [],
   "source": [
    "def convertir_a_numero(text):\n",
    "    return pd.to_numeric(text.replace(',', ''), errors='coerce')"
   ]
  },
  {
   "cell_type": "code",
   "execution_count": 5,
   "metadata": {},
   "outputs": [],
   "source": [
    "def extraer_fecha_nombre_zfir(filename):\n",
    "    basename = os.path.basename(filename)\n",
    "    date_str = basename.split('_')[1].split('.')[0]\n",
    "    return datetime.strptime(date_str, '%Y%m%d')"
   ]
  },
  {
   "cell_type": "code",
   "execution_count": 6,
   "metadata": {},
   "outputs": [],
   "source": [
    "for file in file_list:\n",
    "    fecha = extraer_fecha_nombre_zfir(file)\n",
    "    if fecha_hasta >= fecha >= fecha_desde:\n",
    "        df = pd.read_excel(file, usecols=['Cliente Pa', 'Garantia'])\n",
    "        df = df.rename(columns={'Cliente Pa': 'Deudor'})\n",
    "        df['Garantia'] = df['Garantia'].apply(convertir_a_numero)\n",
    "        df = df.groupby('Deudor', as_index=False)['Garantia'].sum()\n",
    "        df['Fecha'] = fecha\n",
    "        df['Fecha'] = df['Fecha'].dt.strftime('%d/%m/%Y')\n",
    "        df = df[['Fecha', 'Deudor', 'Garantia']]\n",
    "        dataframes.append(df)"
   ]
  },
  {
   "cell_type": "code",
   "execution_count": 7,
   "metadata": {},
   "outputs": [],
   "source": [
    "if dataframes:\n",
    "    df_final = pd.concat(dataframes, ignore_index=True)\n",
    "    df_final = df_final[df_final['Garantia'] != 0] # Elimina las garantias que sean 0\n",
    "    df_final.to_excel(f'zfir60_{desde}_{hasta}.xlsx', index=False)\n",
    "    os.startfile(f'zfir60_{desde}_{hasta}.xlsx')\n",
    "else:\n",
    "    print(\"No se encontraron archivos para procesar\")"
   ]
  }
 ],
 "metadata": {
  "kernelspec": {
   "display_name": "Python 3",
   "language": "python",
   "name": "python3"
  },
  "language_info": {
   "codemirror_mode": {
    "name": "ipython",
    "version": 3
   },
   "file_extension": ".py",
   "mimetype": "text/x-python",
   "name": "python",
   "nbconvert_exporter": "python",
   "pygments_lexer": "ipython3",
   "version": "3.10.9"
  }
 },
 "nbformat": 4,
 "nbformat_minor": 2
}
